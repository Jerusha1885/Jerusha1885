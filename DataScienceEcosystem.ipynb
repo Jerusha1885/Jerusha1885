{
 "cells": [
  {
   "cell_type": "markdown",
   "id": "c71da500-6859-4113-aead-88f0d0d3fbd9",
   "metadata": {},
   "source": [
    "# Data Science Tools and Ecosystem"
   ]
  },
  {
   "cell_type": "markdown",
   "id": "8441e661-d09a-48cc-bec4-002ea270e6bc",
   "metadata": {
    "tags": []
   },
   "source": [
    "###### In this notebook, Data Science Tools and Ecosystem are summarized.\n",
    "##### Data science relies on a variety of tools and frameworks to analyze and interpret data.Key programming languages like Python, R, and SQL are essential for data manipulation, while libraries such as Pandas, NumPy, and Scikit-learn are used for analysis and machine learning.Cloud platforms like AWS, Google Cloud, and Azure provide scalable computing resources, and tools like Jupyter Notebooks and RStudio help in interactive development. Big data tools such as Apache Hadoop and Spark enable processing large datasets, while visualization tools like Tableau and Power BI make insights accessible. Version control, automation tools, and machine learning frameworks like TensorFlow and PyTorch further streamline workflows, ensuring efficient data science projects.\n",
    "\n",
    "\n",
    "\n"
   ]
  },
  {
   "cell_type": "markdown",
   "id": "d27e3923-6ffd-4cf8-a346-2de468cf4946",
   "metadata": {
    "tags": []
   },
   "source": [
    "###### Some of the popular languages that Data Scientists use are:\n",
    "##### 1.Python\n",
    "##### 2.R\n",
    "##### 3.SQL \n",
    "##### 4.Java \n",
    "##### 5.Scala\n",
    "##### 6.Julia\n",
    "##### 7.C++\n",
    "##### 8.JavaScript"
   ]
  },
  {
   "cell_type": "markdown",
   "id": "3194d98d-b651-488e-8879-a0d4aecf03a0",
   "metadata": {},
   "source": [
    "###### Some of the commonly used libraries used by Data Scientists include:\n",
    "\n",
    "1. **NumPy**  \n",
    "2. **Pandas**   \n",
    "3. **Matplotlib**  \n",
    "4. **Seaborn**\n",
    "5. **SciPy** \n",
    "6. **Scikit-learn** \n",
    "7. **Keras**\n",
    "8. **TensorFlow**  \n",
    "9. **PyTorch** \n",
    " "
   ]
  },
  {
   "cell_type": "markdown",
   "id": "f9393b7a-f1a0-4f2a-9db2-33e6c4eec3ee",
   "metadata": {},
   "source": [
    "#### Data Science Tools\n",
    "\n",
    "| Data Science Tools |\n",
    "| ------------------ |\n",
    "| Jupyter Notebook |\n",
    "| RStudio |\n",
    "| Apache Zeppelin |"
   ]
  },
  {
   "cell_type": "markdown",
   "id": "4759bb75-9f60-4ef4-9114-508c28cb8389",
   "metadata": {},
   "source": [
    "### Below are a few examples of evaluating arithmetic expressions in Python."
   ]
  },
  {
   "cell_type": "code",
   "execution_count": 1,
   "id": "8f2aa54c-440a-4fc0-844f-52d8bf920cd7",
   "metadata": {
    "tags": []
   },
   "outputs": [
    {
     "data": {
      "text/plain": [
       "50"
      ]
     },
     "execution_count": 1,
     "metadata": {},
     "output_type": "execute_result"
    }
   ],
   "source": [
    "#Addition Operation\n",
    "20+30"
   ]
  },
  {
   "cell_type": "code",
   "execution_count": 2,
   "id": "7d0c6f09-ceb5-4218-bd0e-5bbb56a5d9c8",
   "metadata": {
    "tags": []
   },
   "outputs": [
    {
     "data": {
      "text/plain": [
       "30"
      ]
     },
     "execution_count": 2,
     "metadata": {},
     "output_type": "execute_result"
    }
   ],
   "source": [
    "#Subtraction Operation\n",
    "40-10"
   ]
  },
  {
   "cell_type": "code",
   "execution_count": 3,
   "id": "78710261-aa2a-40ed-95ed-d251285de8ba",
   "metadata": {
    "tags": []
   },
   "outputs": [
    {
     "data": {
      "text/plain": [
       "200"
      ]
     },
     "execution_count": 3,
     "metadata": {},
     "output_type": "execute_result"
    }
   ],
   "source": [
    "#Multiplication Operation\n",
    "40*5"
   ]
  },
  {
   "cell_type": "code",
   "execution_count": 4,
   "id": "5f71f826-035c-46de-a1da-2df4693b6bca",
   "metadata": {
    "tags": []
   },
   "outputs": [
    {
     "data": {
      "text/plain": [
       "12.0"
      ]
     },
     "execution_count": 4,
     "metadata": {},
     "output_type": "execute_result"
    }
   ],
   "source": [
    "#Divide Operation\n",
    "60/5"
   ]
  },
  {
   "cell_type": "markdown",
   "id": "9b842cb1-282e-4efe-ac73-229fd19bd458",
   "metadata": {},
   "source": [
    "### Multiply and add integers"
   ]
  },
  {
   "cell_type": "code",
   "execution_count": 5,
   "id": "4713e750-b25f-4d13-9347-0a500bfcc491",
   "metadata": {
    "tags": []
   },
   "outputs": [
    {
     "data": {
      "text/plain": [
       "17"
      ]
     },
     "execution_count": 5,
     "metadata": {},
     "output_type": "execute_result"
    }
   ],
   "source": [
    "#this a simple arithmetic expression to multiply then add integers.\n",
    "\n",
    "(3*4)+5"
   ]
  },
  {
   "cell_type": "markdown",
   "id": "d6f12fe9-2deb-4eb4-8443-b154db10cc44",
   "metadata": {},
   "source": [
    "###  Convert minutes to hours"
   ]
  },
  {
   "cell_type": "code",
   "execution_count": 6,
   "id": "2d88438c-0f5d-4b2a-921c-3b2968cb66ac",
   "metadata": {
    "tags": []
   },
   "outputs": [
    {
     "data": {
      "text/plain": [
       "3.3333333333333335"
      ]
     },
     "execution_count": 6,
     "metadata": {},
     "output_type": "execute_result"
    }
   ],
   "source": [
    "# write an expression that converts 200 minutes into hours.\n",
    "#This will convert 200 minutes to hours by diving by 60.\n",
    "\n",
    "200/60"
   ]
  },
  {
   "cell_type": "markdown",
   "id": "75410443-9429-430e-bf63-92e5480fb83e",
   "metadata": {},
   "source": [
    "### **Objectives:**\n",
    "\n",
    "-Python  \n",
    "-R  \n",
    "-SQL  \n",
    "-Java  \n",
    "-Scala  \n",
    "-Julia  \n",
    "-MATLAB  \n",
    "-SAS  \n",
    "-JavaScript  \n",
    "-Go  \n"
   ]
  },
  {
   "cell_type": "markdown",
   "id": "b4bc505e-0350-4d09-a252-5361c01a3598",
   "metadata": {},
   "source": [
    "## Author \n",
    "\n",
    "__**Lakshmi Holla**__\n",
    "\n",
    "__**Niveditha Pandith**__"
   ]
  },
  {
   "cell_type": "code",
   "execution_count": null,
   "id": "24926d1f-7ecd-46ba-8eb9-bf8533da8fa0",
   "metadata": {},
   "outputs": [],
   "source": []
  }
 ],
 "metadata": {
  "kernelspec": {
   "display_name": "Python 3 (ipykernel)",
   "language": "python",
   "name": "python3"
  },
  "language_info": {
   "codemirror_mode": {
    "name": "ipython",
    "version": 3
   },
   "file_extension": ".py",
   "mimetype": "text/x-python",
   "name": "python",
   "nbconvert_exporter": "python",
   "pygments_lexer": "ipython3",
   "version": "3.11.5"
  }
 },
 "nbformat": 4,
 "nbformat_minor": 5
}
